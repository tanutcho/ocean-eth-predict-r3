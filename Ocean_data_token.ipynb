{
 "cells": [
  {
   "cell_type": "code",
   "execution_count": 1,
   "id": "fa35c79c",
   "metadata": {},
   "outputs": [],
   "source": [
    "# from eth_account.account import Account\n",
    "# account1 = Account.create()\n",
    "# account2 = Account.create()\n",
    "\n",
    "# print(f\"\"\"\n",
    "# REMOTE_TEST_PRIVATE_KEY1={account1.key.hex()}, ADDRESS1={account1.address}\n",
    "# REMOTE_TEST_PRIVATE_KEY2={account2.key.hex()}, ADDRESS2={account2.address}\n",
    "# \"\"\")"
   ]
  },
  {
   "cell_type": "code",
   "execution_count": 1,
   "id": "447f5efe",
   "metadata": {},
   "outputs": [
    {
     "data": {
      "text/plain": [
       "True"
      ]
     },
     "execution_count": 1,
     "metadata": {},
     "output_type": "execute_result"
    }
   ],
   "source": [
    "from dotenv import load_dotenv \n",
    "\n",
    "#default directory for .env file is the current directory\n",
    "#if you set .env in different directory, put the directory address load_dotenv(\"directory_of_.env)\n",
    "load_dotenv()"
   ]
  },
  {
   "cell_type": "code",
   "execution_count": 5,
   "id": "71bbe11d",
   "metadata": {},
   "outputs": [],
   "source": [
    "# Create Ocean instance\n",
    "from ocean_lib.web3_internal.utils import connect_to_network\n",
    "\n",
    "import os\n",
    "from ocean_lib.example_config import get_config_dict\n",
    "from ocean_lib.ocean.ocean import Ocean\n",
    "config = get_config_dict(\"polygon-main\")\n",
    "connect_to_network(\"polygon-main\") \n",
    "\n",
    "ocean = Ocean(config)\n",
    "\n",
    "# Create OCEAN object. ocean_lib knows where OCEAN is on all remote networks\n",
    "OCEAN = ocean.OCEAN_token\n",
    "\n",
    "# Create Alice's wallet\n",
    "from brownie.network import accounts\n",
    "accounts.clear()\n",
    "\n",
    "alice_private_key = os.getenv('REMOTE_TEST_PRIVATE_KEY1')\n",
    "alice = accounts.add(alice_private_key)\n",
    "assert alice.balance() > 0, \"Alice needs MATIC\"\n",
    "\n",
    "# Compact wei <> eth conversion\n",
    "from ocean_lib.ocean.util import to_wei, from_wei"
   ]
  },
  {
   "cell_type": "code",
   "execution_count": null,
   "id": "e46f937c",
   "metadata": {},
   "outputs": [],
   "source": [
    "#URL of predicted file\n",
    "url = "
   ]
  },
  {
   "cell_type": "code",
   "execution_count": 4,
   "id": "af8c01ae",
   "metadata": {},
   "outputs": [
    {
     "data": {
      "text/plain": [
       "<LocalAccount '0xf8169638722860538999a1687e4451d9EA17dFE9'>"
      ]
     },
     "execution_count": 4,
     "metadata": {},
     "output_type": "execute_result"
    }
   ],
   "source": [
    "#Publish Ocean Asset\n",
    "name = \"ETH predictions \" + str(time.time()) #time for unique name\n",
    "(data_nft, datatoken, ddo) = ocean.assets.create_url_asset(name, url, {\"from\":alice}, wait_for_aqua=False)\n",
    "metadata_state = 5\n",
    "data_nft.setMetaDataState(metadata_state, {\"from\":alice})\n",
    "print(f\"New asset created, with did={ddo.did}, and datatoken.address={datatoken.address}\")"
   ]
  },
  {
   "cell_type": "code",
   "execution_count": null,
   "id": "53fe2d00",
   "metadata": {},
   "outputs": [],
   "source": [
    "#Share to Judges\n",
    "from web3.main import Web3\n",
    "to_address=\"0xA54ABd42b11B7C97538CAD7C6A2820419ddF703E\" #official judges address\n",
    "datatoken.mint(to_address, Web3.toWei(10, \"ether\"), {\"from\": alice})"
   ]
  }
 ],
 "metadata": {
  "kernelspec": {
   "display_name": "Python 3 (ipykernel)",
   "language": "python",
   "name": "python3"
  },
  "language_info": {
   "codemirror_mode": {
    "name": "ipython",
    "version": 3
   },
   "file_extension": ".py",
   "mimetype": "text/x-python",
   "name": "python",
   "nbconvert_exporter": "python",
   "pygments_lexer": "ipython3",
   "version": "3.10.4"
  }
 },
 "nbformat": 4,
 "nbformat_minor": 5
}
