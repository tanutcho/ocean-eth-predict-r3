{
 "cells": [
  {
   "cell_type": "code",
   "execution_count": 1,
   "id": "fa35c79c",
   "metadata": {},
   "outputs": [],
   "source": [
    "# from eth_account.account import Account\n",
    "# account1 = Account.create()\n",
    "# account2 = Account.create()\n",
    "\n",
    "# print(f\"\"\"\n",
    "# REMOTE_TEST_PRIVATE_KEY1={account1.key.hex()}, ADDRESS1={account1.address}\n",
    "# REMOTE_TEST_PRIVATE_KEY2={account2.key.hex()}, ADDRESS2={account2.address}\n",
    "# \"\"\")"
   ]
  },
  {
   "cell_type": "code",
   "execution_count": 1,
   "id": "447f5efe",
   "metadata": {},
   "outputs": [
    {
     "data": {
      "text/plain": [
       "True"
      ]
     },
     "execution_count": 1,
     "metadata": {},
     "output_type": "execute_result"
    }
   ],
   "source": [
    "from dotenv import load_dotenv \n",
    "\n",
    "#default directory for .env file is the current directory\n",
    "#if you set .env in different directory, put the directory address load_dotenv(\"directory_of_.env)\n",
    "load_dotenv()"
   ]
  },
  {
   "cell_type": "code",
   "execution_count": 3,
   "id": "71bbe11d",
   "metadata": {},
   "outputs": [],
   "source": [
    "# Create Ocean instance\n",
    "from ocean_lib.web3_internal.utils import connect_to_network\n",
    "\n",
    "import os\n",
    "from ocean_lib.example_config import get_config_dict\n",
    "from ocean_lib.ocean.ocean import Ocean\n",
    "config = get_config_dict(\"polygon-main\")\n",
    "connect_to_network(\"polygon-main\") \n",
    "\n",
    "ocean = Ocean(config)\n",
    "\n",
    "# Create OCEAN object. ocean_lib knows where OCEAN is on all remote networks\n",
    "OCEAN = ocean.OCEAN_token\n",
    "\n",
    "# Create Alice's wallet\n",
    "from brownie.network import accounts\n",
    "accounts.clear()\n",
    "\n",
    "alice_private_key = os.getenv('REMOTE_TEST_PRIVATE_KEY1')\n",
    "alice = accounts.add(alice_private_key)\n",
    "assert alice.balance() > 0, \"Alice needs MATIC\"\n",
    "\n",
    "# Compact wei <> eth conversion\n",
    "from ocean_lib.ocean.util import to_wei, from_wei"
   ]
  },
  {
   "cell_type": "code",
   "execution_count": 4,
   "id": "27cdf270",
   "metadata": {},
   "outputs": [],
   "source": [
    "import time"
   ]
  },
  {
   "cell_type": "code",
   "execution_count": 7,
   "id": "01328ee8",
   "metadata": {},
   "outputs": [],
   "source": [
    "#URL of predicted file\n",
    "url = \"https://arweave.net/oTl_YeQzMh9z2qEy0jEYWvjD57YDFHFP0Atx96zvp6g\"\n",
    "# url = \"https://app.ardrive.io/#/file/c79bcb78-3d05-44e8-ac6b-76ba51cb95c3/view\""
   ]
  },
  {
   "cell_type": "code",
   "execution_count": 8,
   "id": "dc8e304d",
   "metadata": {
    "scrolled": false
   },
   "outputs": [
    {
     "name": "stdout",
     "output_type": "stream",
     "text": [
      "Transaction sent: 0x8c3dc3f16332f886b93d03143be7a13b2e456d23bc6a81cdbb49252a5a3462c7\n",
      "  Gas price: ansaction in the mempool... \\97.771369029 gwei   Gas limit: 1446690   Nonce: 16\n",
      "  ERC721Factory.deployERC721Contract confirmed   Block: 39487350   Gas used: 1278898 (88.40%)\n",
      "\n"
     ]
    },
    {
     "name": "stderr",
     "output_type": "stream",
     "text": [
      "INFO:ocean:Successfully created NFT with address 0x1718D14d0E4Fd80CCb9184839Cf2f20c44B71297.\n"
     ]
    },
    {
     "ename": "ValueError",
     "evalue": "No data was returned - the call likely reverted",
     "output_type": "error",
     "traceback": [
      "\u001b[1;31m---------------------------------------------------------------------------\u001b[0m",
      "\u001b[1;31mValueError\u001b[0m                                Traceback (most recent call last)",
      "Cell \u001b[1;32mIn[8], line 3\u001b[0m\n\u001b[0;32m      1\u001b[0m \u001b[38;5;66;03m#Publish Ocean Asset\u001b[39;00m\n\u001b[0;32m      2\u001b[0m name \u001b[38;5;241m=\u001b[39m \u001b[38;5;124m\"\u001b[39m\u001b[38;5;124mETH predictions \u001b[39m\u001b[38;5;124m\"\u001b[39m \u001b[38;5;241m+\u001b[39m \u001b[38;5;28mstr\u001b[39m(time\u001b[38;5;241m.\u001b[39mtime()) \u001b[38;5;66;03m#time for unique name\u001b[39;00m\n\u001b[1;32m----> 3\u001b[0m (data_nft, datatoken, ddo) \u001b[38;5;241m=\u001b[39m \u001b[43mocean\u001b[49m\u001b[38;5;241;43m.\u001b[39;49m\u001b[43massets\u001b[49m\u001b[38;5;241;43m.\u001b[39;49m\u001b[43mcreate_url_asset\u001b[49m\u001b[43m(\u001b[49m\u001b[43mname\u001b[49m\u001b[43m,\u001b[49m\u001b[43m \u001b[49m\u001b[43murl\u001b[49m\u001b[43m,\u001b[49m\u001b[43m \u001b[49m\u001b[43m{\u001b[49m\u001b[38;5;124;43m\"\u001b[39;49m\u001b[38;5;124;43mfrom\u001b[39;49m\u001b[38;5;124;43m\"\u001b[39;49m\u001b[43m:\u001b[49m\u001b[43malice\u001b[49m\u001b[43m}\u001b[49m\u001b[43m,\u001b[49m\u001b[43m \u001b[49m\u001b[43mwait_for_aqua\u001b[49m\u001b[38;5;241;43m=\u001b[39;49m\u001b[38;5;28;43;01mFalse\u001b[39;49;00m\u001b[43m)\u001b[49m\n\u001b[0;32m      4\u001b[0m \u001b[38;5;66;03m# metadata_state = 5\u001b[39;00m\n\u001b[0;32m      5\u001b[0m \u001b[38;5;66;03m# data_nft.setMetaDataState(metadata_state, {\"from\":alice})\u001b[39;00m\n\u001b[0;32m      6\u001b[0m \u001b[38;5;28mprint\u001b[39m(\u001b[38;5;124mf\u001b[39m\u001b[38;5;124m\"\u001b[39m\u001b[38;5;124mNew asset created, with did=\u001b[39m\u001b[38;5;132;01m{\u001b[39;00mddo\u001b[38;5;241m.\u001b[39mdid\u001b[38;5;132;01m}\u001b[39;00m\u001b[38;5;124m, and datatoken.address=\u001b[39m\u001b[38;5;132;01m{\u001b[39;00mdatatoken\u001b[38;5;241m.\u001b[39maddress\u001b[38;5;132;01m}\u001b[39;00m\u001b[38;5;124m\"\u001b[39m)\n",
      "File \u001b[1;32m~\\desights_ai\\venv\\lib\\site-packages\\enforce_typing\\decorator.py:29\u001b[0m, in \u001b[0;36menforce_types.<locals>.decorate.<locals>.wrapper\u001b[1;34m(*args, **kwargs)\u001b[0m\n\u001b[0;32m     26\u001b[0m \u001b[38;5;129m@wraps\u001b[39m(func)\n\u001b[0;32m     27\u001b[0m \u001b[38;5;28;01mdef\u001b[39;00m \u001b[38;5;21mwrapper\u001b[39m(\u001b[38;5;241m*\u001b[39margs, \u001b[38;5;241m*\u001b[39m\u001b[38;5;241m*\u001b[39mkwargs):\n\u001b[0;32m     28\u001b[0m     check_types(\u001b[38;5;241m*\u001b[39margs, \u001b[38;5;241m*\u001b[39m\u001b[38;5;241m*\u001b[39mkwargs)\n\u001b[1;32m---> 29\u001b[0m     \u001b[38;5;28;01mreturn\u001b[39;00m func(\u001b[38;5;241m*\u001b[39margs, \u001b[38;5;241m*\u001b[39m\u001b[38;5;241m*\u001b[39mkwargs)\n",
      "File \u001b[1;32m~\\desights_ai\\venv\\lib\\site-packages\\ocean_lib\\ocean\\ocean_assets.py:189\u001b[0m, in \u001b[0;36mOceanAssets.create_url_asset\u001b[1;34m(self, name, url, tx_dict, wait_for_aqua)\u001b[0m\n\u001b[0;32m    187\u001b[0m metadata \u001b[38;5;241m=\u001b[39m \u001b[38;5;28mself\u001b[39m\u001b[38;5;241m.\u001b[39m_default_metadata(name, tx_dict)\n\u001b[0;32m    188\u001b[0m files \u001b[38;5;241m=\u001b[39m [UrlFile(url)]\n\u001b[1;32m--> 189\u001b[0m \u001b[38;5;28;01mreturn\u001b[39;00m \u001b[38;5;28;43mself\u001b[39;49m\u001b[38;5;241;43m.\u001b[39;49m\u001b[43m_create_1dt\u001b[49m\u001b[43m(\u001b[49m\u001b[43mmetadata\u001b[49m\u001b[43m,\u001b[49m\u001b[43m \u001b[49m\u001b[43mfiles\u001b[49m\u001b[43m,\u001b[49m\u001b[43m \u001b[49m\u001b[43mtx_dict\u001b[49m\u001b[43m,\u001b[49m\u001b[43m \u001b[49m\u001b[43mwait_for_aqua\u001b[49m\u001b[43m)\u001b[49m\n",
      "File \u001b[1;32m~\\desights_ai\\venv\\lib\\site-packages\\enforce_typing\\decorator.py:29\u001b[0m, in \u001b[0;36menforce_types.<locals>.decorate.<locals>.wrapper\u001b[1;34m(*args, **kwargs)\u001b[0m\n\u001b[0;32m     26\u001b[0m \u001b[38;5;129m@wraps\u001b[39m(func)\n\u001b[0;32m     27\u001b[0m \u001b[38;5;28;01mdef\u001b[39;00m \u001b[38;5;21mwrapper\u001b[39m(\u001b[38;5;241m*\u001b[39margs, \u001b[38;5;241m*\u001b[39m\u001b[38;5;241m*\u001b[39mkwargs):\n\u001b[0;32m     28\u001b[0m     check_types(\u001b[38;5;241m*\u001b[39margs, \u001b[38;5;241m*\u001b[39m\u001b[38;5;241m*\u001b[39mkwargs)\n\u001b[1;32m---> 29\u001b[0m     \u001b[38;5;28;01mreturn\u001b[39;00m func(\u001b[38;5;241m*\u001b[39margs, \u001b[38;5;241m*\u001b[39m\u001b[38;5;241m*\u001b[39mkwargs)\n",
      "File \u001b[1;32m~\\desights_ai\\venv\\lib\\site-packages\\ocean_lib\\ocean\\ocean_assets.py:254\u001b[0m, in \u001b[0;36mOceanAssets._create_1dt\u001b[1;34m(self, metadata, files, tx_dict, wait_for_aqua)\u001b[0m\n\u001b[0;32m    252\u001b[0m \u001b[38;5;124;03m\"\"\"Call create(), focusing on just one datatoken\"\"\"\u001b[39;00m\n\u001b[0;32m    253\u001b[0m name \u001b[38;5;241m=\u001b[39m metadata[\u001b[38;5;124m\"\u001b[39m\u001b[38;5;124mname\u001b[39m\u001b[38;5;124m\"\u001b[39m]\n\u001b[1;32m--> 254\u001b[0m (data_nft, datatokens, ddo) \u001b[38;5;241m=\u001b[39m \u001b[38;5;28;43mself\u001b[39;49m\u001b[38;5;241;43m.\u001b[39;49m\u001b[43mcreate\u001b[49m\u001b[43m(\u001b[49m\n\u001b[0;32m    255\u001b[0m \u001b[43m    \u001b[49m\u001b[43mmetadata\u001b[49m\u001b[43m,\u001b[49m\n\u001b[0;32m    256\u001b[0m \u001b[43m    \u001b[49m\u001b[43mtx_dict\u001b[49m\u001b[43m,\u001b[49m\n\u001b[0;32m    257\u001b[0m \u001b[43m    \u001b[49m\u001b[43mdatatoken_args\u001b[49m\u001b[38;5;241;43m=\u001b[39;49m\u001b[43m[\u001b[49m\u001b[43mDatatokenArguments\u001b[49m\u001b[43m(\u001b[49m\u001b[38;5;124;43mf\u001b[39;49m\u001b[38;5;124;43m\"\u001b[39;49m\u001b[38;5;132;43;01m{\u001b[39;49;00m\u001b[43mname\u001b[49m\u001b[38;5;132;43;01m}\u001b[39;49;00m\u001b[38;5;124;43m: DT1\u001b[39;49m\u001b[38;5;124;43m\"\u001b[39;49m\u001b[43m,\u001b[49m\u001b[43m \u001b[49m\u001b[43mfiles\u001b[49m\u001b[38;5;241;43m=\u001b[39;49m\u001b[43mfiles\u001b[49m\u001b[43m)\u001b[49m\u001b[43m]\u001b[49m\u001b[43m,\u001b[49m\n\u001b[0;32m    258\u001b[0m \u001b[43m    \u001b[49m\u001b[43mwait_for_aqua\u001b[49m\u001b[38;5;241;43m=\u001b[39;49m\u001b[43mwait_for_aqua\u001b[49m\u001b[43m,\u001b[49m\n\u001b[0;32m    259\u001b[0m \u001b[43m\u001b[49m\u001b[43m)\u001b[49m\n\u001b[0;32m    260\u001b[0m datatoken \u001b[38;5;241m=\u001b[39m \u001b[38;5;28;01mNone\u001b[39;00m \u001b[38;5;28;01mif\u001b[39;00m datatokens \u001b[38;5;129;01mis\u001b[39;00m \u001b[38;5;28;01mNone\u001b[39;00m \u001b[38;5;28;01melse\u001b[39;00m datatokens[\u001b[38;5;241m0\u001b[39m]\n\u001b[0;32m    261\u001b[0m \u001b[38;5;28;01mreturn\u001b[39;00m (data_nft, datatoken, ddo)\n",
      "File \u001b[1;32m~\\desights_ai\\venv\\lib\\site-packages\\ocean_lib\\ocean\\ocean_assets.py:334\u001b[0m, in \u001b[0;36mOceanAssets.create\u001b[1;34m(self, metadata, tx_dict, credentials, data_nft_address, data_nft_args, deployed_datatokens, services, datatoken_args, encrypt_flag, compress_flag, wait_for_aqua)\u001b[0m\n\u001b[0;32m    332\u001b[0m services \u001b[38;5;241m=\u001b[39m []\n\u001b[0;32m    333\u001b[0m \u001b[38;5;28;01mfor\u001b[39;00m datatoken_arg \u001b[38;5;129;01min\u001b[39;00m datatoken_args:\n\u001b[1;32m--> 334\u001b[0m     new_dt \u001b[38;5;241m=\u001b[39m \u001b[43mdatatoken_arg\u001b[49m\u001b[38;5;241;43m.\u001b[39;49m\u001b[43mcreate_datatoken\u001b[49m\u001b[43m(\u001b[49m\n\u001b[0;32m    335\u001b[0m \u001b[43m        \u001b[49m\u001b[43mdata_nft\u001b[49m\u001b[43m,\u001b[49m\u001b[43m \u001b[49m\u001b[43mtx_dict\u001b[49m\u001b[43m,\u001b[49m\u001b[43m \u001b[49m\u001b[43mwith_services\u001b[49m\u001b[38;5;241;43m=\u001b[39;49m\u001b[38;5;28;43;01mTrue\u001b[39;49;00m\n\u001b[0;32m    336\u001b[0m \u001b[43m    \u001b[49m\u001b[43m)\u001b[49m\n\u001b[0;32m    337\u001b[0m     datatokens\u001b[38;5;241m.\u001b[39mappend(new_dt)\n\u001b[0;32m    339\u001b[0m     services\u001b[38;5;241m.\u001b[39mextend(datatoken_arg\u001b[38;5;241m.\u001b[39mservices)\n",
      "File \u001b[1;32m~\\desights_ai\\venv\\lib\\site-packages\\ocean_lib\\models\\datatoken.py:100\u001b[0m, in \u001b[0;36mDatatokenArguments.create_datatoken\u001b[1;34m(self, data_nft, tx_dict, with_services)\u001b[0m\n\u001b[0;32m     98\u001b[0m config_dict \u001b[38;5;241m=\u001b[39m data_nft\u001b[38;5;241m.\u001b[39mconfig_dict\n\u001b[0;32m     99\u001b[0m OCEAN_address \u001b[38;5;241m=\u001b[39m get_ocean_token_address(config_dict)\n\u001b[1;32m--> 100\u001b[0m initial_list \u001b[38;5;241m=\u001b[39m \u001b[43mdata_nft\u001b[49m\u001b[38;5;241;43m.\u001b[39;49m\u001b[43mgetTokensList\u001b[49m\u001b[43m(\u001b[49m\u001b[43m)\u001b[49m\n\u001b[0;32m    102\u001b[0m wallet_address \u001b[38;5;241m=\u001b[39m get_from_address(tx_dict)\n\u001b[0;32m    104\u001b[0m \u001b[38;5;28;01mif\u001b[39;00m \u001b[38;5;28mself\u001b[39m\u001b[38;5;241m.\u001b[39mset_default_fees_at_deploy:\n",
      "File \u001b[1;32m~\\desights_ai\\venv\\lib\\site-packages\\brownie\\network\\multicall.py:115\u001b[0m, in \u001b[0;36mMulticall._proxy_call\u001b[1;34m(*args, **kwargs)\u001b[0m\n\u001b[0;32m    113\u001b[0m \u001b[38;5;66;03m# standard call we let pass through\u001b[39;00m\n\u001b[0;32m    114\u001b[0m ContractCall\u001b[38;5;241m.\u001b[39m\u001b[38;5;21m__call__\u001b[39m\u001b[38;5;241m.\u001b[39m\u001b[38;5;18m__code__\u001b[39m \u001b[38;5;241m=\u001b[39m \u001b[38;5;28mgetattr\u001b[39m(ContractCall, \u001b[38;5;124m\"\u001b[39m\u001b[38;5;124m__original_call_code\u001b[39m\u001b[38;5;124m\"\u001b[39m)\n\u001b[1;32m--> 115\u001b[0m result \u001b[38;5;241m=\u001b[39m ContractCall\u001b[38;5;241m.\u001b[39m\u001b[38;5;21m__call__\u001b[39m(\u001b[38;5;241m*\u001b[39margs, \u001b[38;5;241m*\u001b[39m\u001b[38;5;241m*\u001b[39mkwargs)  \u001b[38;5;66;03m# type: ignore\u001b[39;00m\n\u001b[0;32m    116\u001b[0m ContractCall\u001b[38;5;241m.\u001b[39m\u001b[38;5;21m__call__\u001b[39m\u001b[38;5;241m.\u001b[39m\u001b[38;5;18m__code__\u001b[39m \u001b[38;5;241m=\u001b[39m \u001b[38;5;28mgetattr\u001b[39m(ContractCall, \u001b[38;5;124m\"\u001b[39m\u001b[38;5;124m__proxy_call_code\u001b[39m\u001b[38;5;124m\"\u001b[39m)\n\u001b[0;32m    117\u001b[0m \u001b[38;5;28;01mreturn\u001b[39;00m result\n",
      "File \u001b[1;32m~\\desights_ai\\venv\\lib\\site-packages\\brownie\\network\\contract.py:1905\u001b[0m, in \u001b[0;36mContractCall.__call__\u001b[1;34m(self, block_identifier, override, *args)\u001b[0m\n\u001b[0;32m   1883\u001b[0m \u001b[38;5;124;03m\"\"\"\u001b[39;00m\n\u001b[0;32m   1884\u001b[0m \u001b[38;5;124;03mCall the contract method without broadcasting a transaction.\u001b[39;00m\n\u001b[0;32m   1885\u001b[0m \n\u001b[1;32m   (...)\u001b[0m\n\u001b[0;32m   1901\u001b[0m \u001b[38;5;124;03m    Contract method return value(s).\u001b[39;00m\n\u001b[0;32m   1902\u001b[0m \u001b[38;5;124;03m\"\"\"\u001b[39;00m\n\u001b[0;32m   1904\u001b[0m \u001b[38;5;28;01mif\u001b[39;00m \u001b[38;5;129;01mnot\u001b[39;00m CONFIG\u001b[38;5;241m.\u001b[39margv[\u001b[38;5;124m\"\u001b[39m\u001b[38;5;124malways_transact\u001b[39m\u001b[38;5;124m\"\u001b[39m] \u001b[38;5;129;01mor\u001b[39;00m block_identifier \u001b[38;5;129;01mis\u001b[39;00m \u001b[38;5;129;01mnot\u001b[39;00m \u001b[38;5;28;01mNone\u001b[39;00m:\n\u001b[1;32m-> 1905\u001b[0m     \u001b[38;5;28;01mreturn\u001b[39;00m \u001b[38;5;28;43mself\u001b[39;49m\u001b[38;5;241;43m.\u001b[39;49m\u001b[43mcall\u001b[49m\u001b[43m(\u001b[49m\u001b[38;5;241;43m*\u001b[39;49m\u001b[43margs\u001b[49m\u001b[43m,\u001b[49m\u001b[43m \u001b[49m\u001b[43mblock_identifier\u001b[49m\u001b[38;5;241;43m=\u001b[39;49m\u001b[43mblock_identifier\u001b[49m\u001b[43m,\u001b[49m\u001b[43m \u001b[49m\u001b[43moverride\u001b[49m\u001b[38;5;241;43m=\u001b[39;49m\u001b[43moverride\u001b[49m\u001b[43m)\u001b[49m\n\u001b[0;32m   1907\u001b[0m args, tx \u001b[38;5;241m=\u001b[39m _get_tx(\u001b[38;5;28mself\u001b[39m\u001b[38;5;241m.\u001b[39m_owner, args)\n\u001b[0;32m   1908\u001b[0m tx\u001b[38;5;241m.\u001b[39mupdate({\u001b[38;5;124m\"\u001b[39m\u001b[38;5;124mgas_price\u001b[39m\u001b[38;5;124m\"\u001b[39m: \u001b[38;5;241m0\u001b[39m, \u001b[38;5;124m\"\u001b[39m\u001b[38;5;124mfrom\u001b[39m\u001b[38;5;124m\"\u001b[39m: \u001b[38;5;28mself\u001b[39m\u001b[38;5;241m.\u001b[39m_owner \u001b[38;5;129;01mor\u001b[39;00m accounts[\u001b[38;5;241m0\u001b[39m]})\n",
      "File \u001b[1;32m~\\desights_ai\\venv\\lib\\site-packages\\brownie\\network\\contract.py:1711\u001b[0m, in \u001b[0;36m_ContractMethod.call\u001b[1;34m(self, block_identifier, override, *args)\u001b[0m\n\u001b[0;32m   1709\u001b[0m     \u001b[38;5;28;01mraise\u001b[39;00m \u001b[38;5;167;01mValueError\u001b[39;00m(\u001b[38;5;124mf\u001b[39m\u001b[38;5;124m\"\u001b[39m\u001b[38;5;124mCall reverted: \u001b[39m\u001b[38;5;132;01m{\u001b[39;00mrevert_str\u001b[38;5;132;01m}\u001b[39;00m\u001b[38;5;124m\"\u001b[39m)\n\u001b[0;32m   1710\u001b[0m \u001b[38;5;28;01mif\u001b[39;00m \u001b[38;5;28mself\u001b[39m\u001b[38;5;241m.\u001b[39mabi[\u001b[38;5;124m\"\u001b[39m\u001b[38;5;124moutputs\u001b[39m\u001b[38;5;124m\"\u001b[39m] \u001b[38;5;129;01mand\u001b[39;00m \u001b[38;5;129;01mnot\u001b[39;00m data:\n\u001b[1;32m-> 1711\u001b[0m     \u001b[38;5;28;01mraise\u001b[39;00m \u001b[38;5;167;01mValueError\u001b[39;00m(\u001b[38;5;124m\"\u001b[39m\u001b[38;5;124mNo data was returned - the call likely reverted\u001b[39m\u001b[38;5;124m\"\u001b[39m)\n\u001b[0;32m   1712\u001b[0m \u001b[38;5;28;01mreturn\u001b[39;00m \u001b[38;5;28mself\u001b[39m\u001b[38;5;241m.\u001b[39mdecode_output(data)\n",
      "\u001b[1;31mValueError\u001b[0m: No data was returned - the call likely reverted"
     ]
    }
   ],
   "source": [
    "#Publish Ocean Asset\n",
    "name = \"ETH predictions \" + str(time.time()) #time for unique name\n",
    "(data_nft, datatoken, ddo) = ocean.assets.create_url_asset(name, url, {\"from\":alice}, wait_for_aqua=False)\n",
    "# metadata_state = 5\n",
    "# data_nft.setMetaDataState(metadata_state, {\"from\":alice})\n",
    "print(f\"New asset created, with did={ddo.did}, and datatoken.address={datatoken.address}\")"
   ]
  },
  {
   "cell_type": "code",
   "execution_count": 54,
   "id": "1a0dba56",
   "metadata": {},
   "outputs": [
    {
     "ename": "NameError",
     "evalue": "name 'datatoken' is not defined",
     "output_type": "error",
     "traceback": [
      "\u001b[1;31m---------------------------------------------------------------------------\u001b[0m",
      "\u001b[1;31mNameError\u001b[0m                                 Traceback (most recent call last)",
      "Cell \u001b[1;32mIn[54], line 4\u001b[0m\n\u001b[0;32m      2\u001b[0m \u001b[38;5;28;01mfrom\u001b[39;00m \u001b[38;5;21;01mweb3\u001b[39;00m\u001b[38;5;21;01m.\u001b[39;00m\u001b[38;5;21;01mmain\u001b[39;00m \u001b[38;5;28;01mimport\u001b[39;00m Web3\n\u001b[0;32m      3\u001b[0m to_address\u001b[38;5;241m=\u001b[39m\u001b[38;5;124m\"\u001b[39m\u001b[38;5;124m0xA54ABd42b11B7C97538CAD7C6A2820419ddF703E\u001b[39m\u001b[38;5;124m\"\u001b[39m \u001b[38;5;66;03m#official judges address\u001b[39;00m\n\u001b[1;32m----> 4\u001b[0m \u001b[43mdatatoken\u001b[49m\u001b[38;5;241m.\u001b[39mmint(to_address, Web3\u001b[38;5;241m.\u001b[39mtoWei(\u001b[38;5;241m10\u001b[39m, \u001b[38;5;124m\"\u001b[39m\u001b[38;5;124mether\u001b[39m\u001b[38;5;124m\"\u001b[39m), {\u001b[38;5;124m\"\u001b[39m\u001b[38;5;124mfrom\u001b[39m\u001b[38;5;124m\"\u001b[39m: alice})\n",
      "\u001b[1;31mNameError\u001b[0m: name 'datatoken' is not defined"
     ]
    }
   ],
   "source": [
    "#Share to Judges\n",
    "from web3.main import Web3\n",
    "to_address=\"0xA54ABd42b11B7C97538CAD7C6A2820419ddF703E\" #official judges address\n",
    "datatoken.mint(to_address, Web3.toWei(10, \"ether\"), {\"from\": alice})"
   ]
  },
  {
   "cell_type": "code",
   "execution_count": null,
   "id": "6d610c3f",
   "metadata": {},
   "outputs": [],
   "source": []
  }
 ],
 "metadata": {
  "kernelspec": {
   "display_name": "Python 3 (ipykernel)",
   "language": "python",
   "name": "python3"
  },
  "language_info": {
   "codemirror_mode": {
    "name": "ipython",
    "version": 3
   },
   "file_extension": ".py",
   "mimetype": "text/x-python",
   "name": "python",
   "nbconvert_exporter": "python",
   "pygments_lexer": "ipython3",
   "version": "3.10.4"
  }
 },
 "nbformat": 4,
 "nbformat_minor": 5
}
